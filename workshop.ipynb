{
 "cells": [
  {
   "cell_type": "markdown",
   "id": "7eb3196f-b08c-4c63-87fd-ee03e07843a0",
   "metadata": {},
   "source": [
    "# Welcome!\n",
    "\n",
    "Today we will learn how to use Python, Jupyter Notebooks and pandas for basic data analysis for news.\n",
    "\n",
    "- Jon Keegan, Investigative data journalist at [The Markup](themarkup.org)\n",
    "- There are no dumb questions! Ask anything.\n",
    "- This is based off of Ben Welsh's (Reuters) superb [First Python Notebook](https://palewi.re/docs/first-python-notebook/) class.\n",
    "- What do you know? Have you worked with code? Worked with data?\n",
    "- Jargon: Python, Jupyter, pandas\n",
    "- Notebooks are the gold standard for sharing reproduceable analysis. Write code, run code, remix and republish all in the browser.\n",
    "- Top to bottom\n",
    "- Common patterns\n",
    "- Examples of news orgs sharing notebooks\n",
    "- Tour of the notebook interface: cells, toolbar, file browser"
   ]
  },
  {
   "cell_type": "markdown",
   "id": "d92a734b-ae38-42cb-b3fa-11e6138ae8b8",
   "metadata": {},
   "source": [
    "# Cells"
   ]
  },
  {
   "cell_type": "code",
   "execution_count": null,
   "id": "0d057d93-b69d-42c3-917e-12510d829b5d",
   "metadata": {},
   "outputs": [],
   "source": []
  },
  {
   "cell_type": "markdown",
   "id": "59e9e2bb-dcd7-4b8e-abdd-fd8395deb81c",
   "metadata": {},
   "source": [
    "# pandas"
   ]
  },
  {
   "cell_type": "code",
   "execution_count": null,
   "id": "73fc79b1-ced7-4410-93f4-e72dd95f4e6d",
   "metadata": {},
   "outputs": [],
   "source": [
    "import pandas as pd"
   ]
  },
  {
   "cell_type": "markdown",
   "id": "53bd63c3-53d6-4494-bc6f-ba22dc9eb1f4",
   "metadata": {},
   "source": [
    "# Dataframes"
   ]
  },
  {
   "cell_type": "code",
   "execution_count": null,
   "id": "2c42a5d6-ebc0-4f37-8cf0-95c53a396b5a",
   "metadata": {},
   "outputs": [],
   "source": []
  },
  {
   "cell_type": "markdown",
   "id": "0b70b48d-0028-478b-97f7-57b5b939da59",
   "metadata": {},
   "source": [
    "# Inspecting columns and data types"
   ]
  },
  {
   "cell_type": "code",
   "execution_count": null,
   "id": "3d4ca2e5-25fb-44b1-a639-0c2a2d0ebf7f",
   "metadata": {},
   "outputs": [],
   "source": []
  },
  {
   "cell_type": "markdown",
   "id": "4ad3ac1f-f6bc-43dd-ab87-56bd6914c872",
   "metadata": {},
   "source": [
    "# Counting column values"
   ]
  },
  {
   "cell_type": "code",
   "execution_count": null,
   "id": "eb2bd6e6-297d-4c2f-9b5e-3152341006e0",
   "metadata": {},
   "outputs": [],
   "source": []
  },
  {
   "cell_type": "markdown",
   "id": "26b80ea8-5a57-4c5d-bef5-f35a89058927",
   "metadata": {},
   "source": [
    "# Reset a dataframe"
   ]
  },
  {
   "cell_type": "code",
   "execution_count": null,
   "id": "f8a0e0f8-aeb6-4f34-b4f8-19201a268ba3",
   "metadata": {},
   "outputs": [],
   "source": []
  },
  {
   "cell_type": "markdown",
   "id": "be9e9213-ce00-4750-9cf0-68c6db8262e7",
   "metadata": {},
   "source": [
    "# Quiz"
   ]
  },
  {
   "cell_type": "markdown",
   "id": "0e24f23a-f79d-489e-a39d-7460d79da69d",
   "metadata": {},
   "source": [
    "1. What was the total number of fatalities?\n",
    "\n",
    "\n"
   ]
  },
  {
   "cell_type": "code",
   "execution_count": null,
   "id": "f5782235-d273-4764-b7b0-1c2a7d22d4ac",
   "metadata": {},
   "outputs": [],
   "source": []
  },
  {
   "cell_type": "markdown",
   "id": "37639ba3-57d4-4a8d-bfe3-7931f3742a51",
   "metadata": {},
   "source": [
    "2. Which helicopter maker had the most accidents?"
   ]
  },
  {
   "cell_type": "code",
   "execution_count": null,
   "id": "ca0113cc-7db6-443c-bf01-afdd29c9674b",
   "metadata": {},
   "outputs": [],
   "source": []
  },
  {
   "cell_type": "markdown",
   "id": "e534f04d-ac8e-43d9-bb55-fdab82288637",
   "metadata": {},
   "source": [
    "3. What was the total number of helicopter accidents by year?"
   ]
  },
  {
   "cell_type": "code",
   "execution_count": null,
   "id": "c3e1d4e8-cbe5-47d3-855e-0d27b0c5ced7",
   "metadata": {},
   "outputs": [],
   "source": []
  },
  {
   "cell_type": "markdown",
   "id": "cfeb3041-fdf2-4ec3-bb78-d887b6f31a19",
   "metadata": {},
   "source": [
    "4. Which state had the most helicopter accidents?"
   ]
  },
  {
   "cell_type": "code",
   "execution_count": null,
   "id": "68f68b60-83a5-4ce4-9fc5-af416e1b545d",
   "metadata": {},
   "outputs": [],
   "source": []
  },
  {
   "cell_type": "markdown",
   "id": "0f5a169f-f22d-4416-91ea-f9f15e784512",
   "metadata": {},
   "source": [
    "# Filtering\n",
    "\n",
    "Conditionals: ==, !=, <=, >=, &"
   ]
  },
  {
   "cell_type": "code",
   "execution_count": null,
   "id": "5585c195-1e00-4cdf-ae94-67bd7d21c812",
   "metadata": {},
   "outputs": [],
   "source": []
  },
  {
   "cell_type": "markdown",
   "id": "6785cc59-cf44-42a9-8ef4-7500bbabb965",
   "metadata": {},
   "source": [
    "# Quiz"
   ]
  },
  {
   "cell_type": "markdown",
   "id": "07df8138-3908-4645-a1b9-7f751b07b163",
   "metadata": {},
   "source": [
    "1. Which state recorded more accidents, Iowa (\"IA\") or Missouri (\"MO\")?\n"
   ]
  },
  {
   "cell_type": "code",
   "execution_count": null,
   "id": "cb42144d-c263-4f91-807d-bf2de9fc28bc",
   "metadata": {},
   "outputs": [],
   "source": []
  },
  {
   "cell_type": "markdown",
   "id": "c5c22c50-207a-4206-a732-91f1bbea4218",
   "metadata": {},
   "source": [
    "2. How many accidents recorded more than one fatality?"
   ]
  },
  {
   "cell_type": "code",
   "execution_count": null,
   "id": "5054815c-24ba-47c9-b5f8-0a2a19929a55",
   "metadata": {},
   "outputs": [],
   "source": []
  },
  {
   "cell_type": "markdown",
   "id": "cbb70b50-3e39-46bc-b446-b836b1aa27b6",
   "metadata": {},
   "source": [
    "3. How many accidents happened in California in 2015?"
   ]
  },
  {
   "cell_type": "code",
   "execution_count": null,
   "id": "d2121ba5-1b91-44a6-9f59-52f02989b8b8",
   "metadata": {},
   "outputs": [],
   "source": []
  },
  {
   "cell_type": "markdown",
   "id": "f07a12a2-5c29-4972-ae8a-1a082e891c1f",
   "metadata": {},
   "source": [
    "4. What percentage of the total fatalities occured in California?"
   ]
  },
  {
   "cell_type": "code",
   "execution_count": null,
   "id": "96c761b8-65bf-4b38-ba8d-562315bb624d",
   "metadata": {},
   "outputs": [],
   "source": []
  },
  {
   "cell_type": "markdown",
   "id": "bccca273-7c47-436e-a7ce-b3ba89337ffa",
   "metadata": {},
   "source": [
    "# Grouping"
   ]
  },
  {
   "cell_type": "code",
   "execution_count": null,
   "id": "303a7bc9-f6e7-454e-bde7-2cf4738e02f7",
   "metadata": {},
   "outputs": [],
   "source": []
  },
  {
   "cell_type": "markdown",
   "id": "90cd98f5-fa0f-422d-bef0-e63cdbfc9686",
   "metadata": {},
   "source": [
    "# Merging"
   ]
  },
  {
   "cell_type": "code",
   "execution_count": null,
   "id": "a94e189a-80b0-47c0-9a2e-ef969d76ffa0",
   "metadata": {},
   "outputs": [],
   "source": []
  },
  {
   "cell_type": "markdown",
   "id": "d35daae8-4a24-4e3f-ae6d-bf84ba050694",
   "metadata": {},
   "source": [
    "# Computing new columns"
   ]
  },
  {
   "cell_type": "code",
   "execution_count": null,
   "id": "ab60736d-21a4-4a16-888a-0bdc4f1d86a6",
   "metadata": {},
   "outputs": [],
   "source": []
  },
  {
   "cell_type": "markdown",
   "id": "ec81e50f-f0fa-49b7-aaec-b0781bc45194",
   "metadata": {},
   "source": [
    "# Sorting and exporting"
   ]
  },
  {
   "cell_type": "code",
   "execution_count": null,
   "id": "fabfaa65-8e1e-4125-bbe9-d2787aa1aecb",
   "metadata": {},
   "outputs": [],
   "source": []
  }
 ],
 "metadata": {
  "kernelspec": {
   "display_name": "Python 3 (ipykernel)",
   "language": "python",
   "name": "python3"
  },
  "language_info": {
   "codemirror_mode": {
    "name": "ipython",
    "version": 3
   },
   "file_extension": ".py",
   "mimetype": "text/x-python",
   "name": "python",
   "nbconvert_exporter": "python",
   "pygments_lexer": "ipython3",
   "version": "3.8.18"
  }
 },
 "nbformat": 4,
 "nbformat_minor": 5
}
